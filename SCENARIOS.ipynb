{
 "cells": [
  {
   "cell_type": "code",
   "execution_count": null,
   "metadata": {},
   "outputs": [],
   "source": [
    "##SCENARIO 1\n",
    "hat = [1,2,3,4,5]\n",
    "number = input (\"enter number\")\n",
    "hat[2] = number\n",
    "print(hat)\n",
    "\n",
    "del hat[-1]\n",
    "print (hat)\n",
    "\n",
    "print(len(hat))"
   ]
  },
  {
   "cell_type": "code",
   "execution_count": null,
   "metadata": {},
   "outputs": [],
   "source": [
    "##SCENARIO 2\n",
    "##CREATING AN EMPTY LIST NAMED BEATLES\n",
    "beatles = []\n",
    "\n",
    "##adding elements to the list \n",
    "beatles.append(\"John Lennon\")       \n",
    "beatles.append(\"Paul Mcartney\") \n",
    "beatles.append(\"George Harrison\") \n",
    "beatles.append(\"Richard Starkey\")   \n",
    "\n",
    "print (beatles)\n",
    "\n",
    "##prompting user to add element to the list \n",
    "for i in range(2)\n",
    "    names = input (\"Enter name (Stu Stucliffe and Pete Best):\")\n",
    "    beatles.append(names)\n",
    "\n",
    "##removing elements from the  list\n",
    "print(beatles)\n",
    "del(beatles[3])\n",
    "del(beatles[3])\n",
    "\n",
    "##inserting elements into the list\n",
    "beatles.insert(0,\"Ringo Stark\")\n",
    "print(beatles)"
   ]
  },
  {
   "cell_type": "code",
   "execution_count": null,
   "metadata": {},
   "outputs": [],
   "source": [
    "##creating an empty list\n",
    "list1 = [2,3,4,78,6,67,1,34,8,12,12,4]\n",
    "##deleting the repeated values\n",
    "number = list(set(list1))\n",
    "\n",
    "print(number)"
   ]
  }
 ],
 "metadata": {
  "kernelspec": {
   "display_name": "Python 3",
   "language": "python",
   "name": "python3"
  },
  "language_info": {
   "name": "python",
   "version": "3.11.3"
  }
 },
 "nbformat": 4,
 "nbformat_minor": 2
}
